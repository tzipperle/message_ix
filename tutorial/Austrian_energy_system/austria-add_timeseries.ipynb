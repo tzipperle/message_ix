{
 "cells": [
  {
   "cell_type": "markdown",
   "metadata": {},
   "source": [
    "# Building an Energy Model\n",
    "\n",
    "In this notebook, we will build a model of the Austrian energy system from scratch. The process will involve defining our model's time horizon and spatial extent, and then populating the model with data associated with model parameters. Once we have a basline model, we will then move on to investigating policy scenarios.\n",
    "\n",
    "We will be populating different kinds of parameters including\n",
    "\n",
    "### Economic Parameters\n",
    "\n",
    "- `interestrate`\n",
    "- `demand`\n",
    "\n",
    "### Technology Parameters\n",
    "\n",
    "#### Engineering Parameters\n",
    "\n",
    "- `input`\n",
    "- `output`\n",
    "- `technical_lifetime`\n",
    "- `capacity_factor`\n",
    "\n",
    "\n",
    "#### Technoeconomic Parameters\n",
    "\n",
    "- `inv_cost`\n",
    "- `fix_cost`\n",
    "- `var_cost`\n",
    "\n",
    "### Dynamic Behavior Parameters\n",
    "\n",
    "- `bound_activity_up`\n",
    "- `bound_activity_lo`\n",
    "- `bound_new_capacity_up`\n",
    "- `initial_activity_up`\n",
    "- `growth_activity_up`\n",
    "\n",
    "### Emissions\n",
    "\n",
    "- `emission_factor`\n",
    "\n",
    "A full list of parameters can be found on the (internal) [MESSAGEix documentation website](http://ienecat.iiasa.ac.at:8787/message_ix_doc). This website can be built in the future from the repository that you are using. \n",
    "\n",
    "## The Final Product\n",
    "\n",
    "At the completion of this exercise, we will have developed an energy model is comprised of the below Reference Energy System (RES):\n",
    "\n",
    "![title](austria.png)\n",
    "\n"
   ]
  },
  {
   "cell_type": "markdown",
   "metadata": {},
   "source": [
    "## Setup"
   ]
  },
  {
   "cell_type": "code",
   "execution_count": 1,
   "metadata": {},
   "outputs": [],
   "source": [
    "# load required packages \n",
    "import itertools\n",
    "import pandas as pd\n",
    "\n",
    "import matplotlib.pyplot as plt\n",
    "%matplotlib inline\n",
    "plt.style.use('ggplot')\n",
    "\n",
    "import ixmp as ix\n",
    "import message_ix"
   ]
  },
  {
   "cell_type": "code",
   "execution_count": 2,
   "metadata": {},
   "outputs": [
    {
     "name": "stdout",
     "output_type": "stream",
     "text": [
      "launching ixmp.Platform with local HSQLDB database at 'C:\\Users\\gu47zip\\.local\\ixmp\\localdb\\default'\n"
     ]
    }
   ],
   "source": [
    "# launch the IX modeling platform using the local default database                                                                                                                       \n",
    "mp = ix.Platform(dbtype='HSQLDB')"
   ]
  },
  {
   "cell_type": "code",
   "execution_count": 3,
   "metadata": {},
   "outputs": [],
   "source": [
    "model = \"Austrian energy model\"\n",
    "scen = \"baseline\"\n",
    "annot = \"developing a stylized energy system model for illustration and testing\" \n",
    "\n",
    "scenario = mp.Scenario(model, scen, version='new', annotation=annot, scheme=\"MESSAGE\")"
   ]
  },
  {
   "cell_type": "markdown",
   "metadata": {},
   "source": [
    "## Time and Spatial Detail\n",
    "\n",
    "The model includes the time periods 2010, 2020, 2030 and 2040."
   ]
  },
  {
   "cell_type": "code",
   "execution_count": 4,
   "metadata": {},
   "outputs": [],
   "source": [
    "horizon = range(2010, 2041, 10)\n",
    "firstyear = horizon[0]"
   ]
  },
  {
   "cell_type": "code",
   "execution_count": 5,
   "metadata": {},
   "outputs": [],
   "source": [
    "scenario.add_set(\"year\", horizon)\n",
    "scenario.add_set(\"cat_year\", [\"firstmodelyear\", firstyear])"
   ]
  },
  {
   "cell_type": "code",
   "execution_count": 6,
   "metadata": {},
   "outputs": [],
   "source": [
    "country = \"Austria\"\n",
    "state = \"Vienna\"\n",
    "scenario.add_set(\"node\", [country, state, \"state\"])\n",
    "scenario.add_set(\"lvl_spatial\", [\"country\", \"state\"])\n",
    "scenario.add_set(\"map_spatial_hierarchy\", [\"state\", state, \"World\"])\n",
    "scenario.add_set(\"map_spatial_hierarchy\", [\"country\", country, \"state\"])\n",
    "scenario.add_set(\"mode\", \"standard\")"
   ]
  },
  {
   "cell_type": "code",
   "execution_count": 7,
   "metadata": {},
   "outputs": [],
   "source": [
    "scenario.add_set(\"commodity\", [\"electricity\", \"light\", \"other_electricity\"])\n",
    "scenario.add_set(\"level\", [\"secondary\", \"final\", \"useful\"])"
   ]
  },
  {
   "cell_type": "markdown",
   "metadata": {},
   "source": [
    "## Economic Parameters"
   ]
  },
  {
   "cell_type": "code",
   "execution_count": 8,
   "metadata": {},
   "outputs": [],
   "source": [
    "rate = [0.05] * len(horizon)\n",
    "unit = ['%'] * len(horizon)\n",
    "scenario.add_par(\"interestrate\", key=horizon, val=rate, unit=unit)"
   ]
  },
  {
   "cell_type": "code",
   "execution_count": 9,
   "metadata": {},
   "outputs": [],
   "source": [
    "beta = 0.7 \n",
    "gdp = pd.Series([1., 1.21631, 1.4108, 1.63746], index=horizon)\n",
    "demand = gdp ** beta"
   ]
  },
  {
   "cell_type": "markdown",
   "metadata": {},
   "source": [
    "## Technologies"
   ]
  },
  {
   "cell_type": "code",
   "execution_count": 10,
   "metadata": {},
   "outputs": [],
   "source": [
    "plants = [\n",
    "    \"coal_ppl\", \n",
    "    \"gas_ppl\", \n",
    "    \"oil_ppl\", \n",
    "    \"bio_ppl\", \n",
    "    \"hydro_ppl\",\n",
    "    \"wind_ppl\", \n",
    "    \"solar_pv_ppl\", # actually primary -> final\n",
    "]\n",
    "secondary_energy_techs = plants + ['import']\n",
    "\n",
    "final_energy_techs = ['electricity_grid']\n",
    "\n",
    "lights = [\n",
    "    \"bulb\", \n",
    "    \"cfl\", \n",
    "]\n",
    "useful_energy_techs = lights + ['appliances']"
   ]
  },
  {
   "cell_type": "code",
   "execution_count": 11,
   "metadata": {},
   "outputs": [],
   "source": [
    "technologies = secondary_energy_techs + final_energy_techs + useful_energy_techs\n",
    "scenario.add_set(\"technology\", technologies)"
   ]
  },
  {
   "cell_type": "code",
   "execution_count": 12,
   "metadata": {},
   "outputs": [],
   "source": [
    "demand_per_year = 55209. / 8760 # from IEA statistics\n",
    "elec_demand = pd.DataFrame({\n",
    "        'node': country,\n",
    "        'commodity': 'other_electricity',\n",
    "        'level': 'useful',\n",
    "        'year': horizon,\n",
    "        'time': 'year',\n",
    "        'value': demand_per_year * demand,\n",
    "        'unit': 'GWa',\n",
    "    })\n",
    "scenario.add_par(\"demand\", elec_demand)\n",
    "\n",
    "demand_per_year = 6134. / 8760 # from IEA statistics\n",
    "light_demand = pd.DataFrame({\n",
    "        'node': country,\n",
    "        'commodity': 'light',\n",
    "        'level': 'useful',\n",
    "        'year': horizon,\n",
    "        'time': 'year',\n",
    "        'value': demand_per_year * demand,\n",
    "        'unit': 'GWa',\n",
    "    })\n",
    "scenario.add_par(\"demand\", light_demand)"
   ]
  },
  {
   "cell_type": "markdown",
   "metadata": {
    "collapsed": true
   },
   "source": [
    "### Engineering Parameters"
   ]
  },
  {
   "cell_type": "code",
   "execution_count": 13,
   "metadata": {},
   "outputs": [],
   "source": [
    "year_pairs = [(y_v, y_a) for y_v, y_a in itertools.product(horizon, horizon) if y_v <= y_a]\n",
    "vintage_years, act_years = zip(*year_pairs)"
   ]
  },
  {
   "cell_type": "code",
   "execution_count": 14,
   "metadata": {},
   "outputs": [],
   "source": [
    "base_input = {\n",
    "    'node_loc': country,\n",
    "    'year_vtg': vintage_years,\n",
    "    'year_act': act_years,\n",
    "    'mode': 'standard',\n",
    "    'node_origin': country,\n",
    "    'commodity': 'electricity',\n",
    "    'time': 'year',\n",
    "    'time_origin': 'year',\n",
    "}\n",
    "\n",
    "grid = pd.DataFrame(dict(\n",
    "        technology = 'electricity_grid',\n",
    "        level = 'secondary',\n",
    "        value = 1.0,\n",
    "        unit = '%',\n",
    "        **base_input\n",
    "        ))\n",
    "scenario.add_par(\"input\", grid)\n",
    "\n",
    "\n",
    "bulb = pd.DataFrame(dict(\n",
    "        technology = 'bulb',\n",
    "        level = 'final',\n",
    "        value = 1.0,\n",
    "        unit = '%',\n",
    "        **base_input\n",
    "        ))\n",
    "scenario.add_par(\"input\", bulb)\n",
    "\n",
    "cfl = pd.DataFrame(dict(\n",
    "        technology = 'cfl',\n",
    "        level = 'final',\n",
    "        value = 0.3, \n",
    "        unit = '%',\n",
    "        **base_input\n",
    "        ))\n",
    "scenario.add_par(\"input\", cfl)\n",
    "\n",
    "app = pd.DataFrame(dict(\n",
    "        technology = 'appliances',\n",
    "        level = 'final',\n",
    "        value = 1.0,\n",
    "        unit = '%',\n",
    "        **base_input\n",
    "        ))\n",
    "scenario.add_par(\"input\", app)"
   ]
  },
  {
   "cell_type": "code",
   "execution_count": 15,
   "metadata": {},
   "outputs": [],
   "source": [
    "def make_df(base, **kwargs):\n",
    "    base.update(kwargs)\n",
    "    return pd.DataFrame(base)"
   ]
  },
  {
   "cell_type": "code",
   "execution_count": 16,
   "metadata": {},
   "outputs": [],
   "source": [
    "base_output = {\n",
    "    'node_loc': country,\n",
    "    'year_vtg': vintage_years,\n",
    "    'year_act': act_years,\n",
    "    'mode': 'standard',\n",
    "    'node_dest': country,\n",
    "    'time': 'year',\n",
    "    'time_dest': 'year', \n",
    "    'unit': '%',\n",
    "}\n",
    "\n",
    "imports = make_df(base_output, technology='import', commodity='electricity', \n",
    "                  level='secondary', value=1.)\n",
    "scenario.add_par('output', imports)\n",
    "\n",
    "grid = make_df(base_output, technology='electricity_grid', commodity='electricity', \n",
    "               level='final', value=0.873)\n",
    "scenario.add_par('output', grid)\n",
    "\n",
    "bulb = make_df(base_output, technology='bulb', commodity='light', \n",
    "               level='useful', value=1.)\n",
    "scenario.add_par('output', bulb)\n",
    "\n",
    "cfl = make_df(base_output, technology='cfl', commodity='light', \n",
    "              level='useful', value=1.)\n",
    "scenario.add_par('output', cfl)\n",
    "\n",
    "app = make_df(base_output, technology='appliances', commodity='other_electricity', \n",
    "              level='useful', value=1.)\n",
    "scenario.add_par('output', app)\n",
    "\n",
    "coal = make_df(base_output, technology='coal_ppl', commodity='electricity', \n",
    "               level='secondary', value=1.)\n",
    "scenario.add_par('output', coal)\n",
    "\n",
    "gas = make_df(base_output, technology='gas_ppl', commodity='electricity', \n",
    "              level='secondary', value=1.)\n",
    "scenario.add_par('output', gas)\n",
    "\n",
    "oil = make_df(base_output, technology='oil_ppl', commodity='electricity', \n",
    "              level='secondary', value=1.)\n",
    "scenario.add_par('output', oil)\n",
    "\n",
    "bio = make_df(base_output, technology='bio_ppl', commodity='electricity', \n",
    "              level='secondary', value=1.)\n",
    "scenario.add_par('output', bio)\n",
    "\n",
    "hydro = make_df(base_output, technology='hydro_ppl', commodity='electricity', \n",
    "                level='secondary', value=1.)\n",
    "scenario.add_par('output', hydro)\n",
    "\n",
    "wind = make_df(base_output, technology='wind_ppl', commodity='electricity', \n",
    "               level='secondary', value=1.)\n",
    "scenario.add_par('output', wind)\n",
    "\n",
    "solar_pv = make_df(base_output, technology='solar_pv_ppl', commodity='electricity', \n",
    "                   level='final', value=1.)\n",
    "scenario.add_par('output', solar_pv)"
   ]
  },
  {
   "cell_type": "code",
   "execution_count": 17,
   "metadata": {},
   "outputs": [],
   "source": [
    "base_technical_lifetime = {\n",
    "    'node_loc': country,\n",
    "    'year_vtg': horizon,\n",
    "    'unit': 'y',\n",
    "}\n",
    "\n",
    "lifetimes = {\n",
    "    'coal_ppl': 40,\n",
    "    'gas_ppl': 30,\n",
    "    'oil_ppl': 30,\n",
    "    'bio_ppl': 30,\n",
    "    'hydro_ppl': 60,\n",
    "    'wind_ppl': 20,\n",
    "    'solar_pv_ppl': 20,\n",
    "    'bulb': 1,\n",
    "    'cfl': 10,\n",
    "}\n",
    "\n",
    "for tec, val in lifetimes.items():\n",
    "    df = make_df(base_technical_lifetime, technology=tec, value=val)\n",
    "    scenario.add_par('technical_lifetime', df)"
   ]
  },
  {
   "cell_type": "code",
   "execution_count": 18,
   "metadata": {},
   "outputs": [],
   "source": [
    "base_capacity_factor = {\n",
    "    'node_loc': country,\n",
    "    'year_vtg': vintage_years,\n",
    "    'year_act': act_years,\n",
    "    'time': 'year',\n",
    "    'unit': '%',\n",
    "}\n",
    "\n",
    "capacity_factor = {\n",
    "    'coal_ppl': 0.85,\n",
    "    'gas_ppl': 0.75,\n",
    "    'oil_ppl': 0.75,\n",
    "    'bio_ppl': 0.75,\n",
    "    'hydro_ppl': 0.5,\n",
    "    'wind_ppl': 0.2,\n",
    "    'solar_pv_ppl': 0.15,\n",
    "    'bulb': 0.1, \n",
    "    'cfl':  0.1, \n",
    "}\n",
    "\n",
    "for tec, val in capacity_factor.items():\n",
    "    df = make_df(base_capacity_factor, technology=tec, value=val)\n",
    "    scenario.add_par('capacity_factor', df)"
   ]
  },
  {
   "cell_type": "markdown",
   "metadata": {},
   "source": [
    "### Technoeconomic Parameters"
   ]
  },
  {
   "cell_type": "code",
   "execution_count": 19,
   "metadata": {},
   "outputs": [],
   "source": [
    "base_inv_cost = {\n",
    "    'node_loc': country,\n",
    "    'year_vtg': horizon,\n",
    "    'unit': 'USD/GWa',\n",
    "}\n",
    "\n",
    "# in $ / kW\n",
    "costs = {\n",
    "    'coal_ppl': 1500,\n",
    "    'gas_ppl':  870,\n",
    "    'oil_ppl':  950,\n",
    "    'hydro_ppl': 3000,\n",
    "    'bio_ppl':  1600,\n",
    "    'wind_ppl': 1100,\n",
    "    'solar_pv_ppl': 4000,\n",
    "    'bulb': 5,\n",
    "    'cfl':  900, \n",
    "}\n",
    "\n",
    "for tec, val in costs.items():\n",
    "    df = make_df(base_inv_cost, technology=tec, value=val * 1e6)\n",
    "    scenario.add_par('inv_cost', df)"
   ]
  },
  {
   "cell_type": "code",
   "execution_count": 20,
   "metadata": {},
   "outputs": [],
   "source": [
    "base_fix_cost = {\n",
    "    'node_loc': country,\n",
    "    'year_vtg': vintage_years,\n",
    "    'year_act': act_years,\n",
    "    'unit': 'USD/GWa',\n",
    "}\n",
    "\n",
    "# in $ / kW\n",
    "costs = {\n",
    "    'coal_ppl': 40,\n",
    "    'gas_ppl':  25,\n",
    "    'oil_ppl':  25,\n",
    "    'hydro_ppl': 60,\n",
    "    'bio_ppl':  30,\n",
    "    'wind_ppl': 40,\n",
    "    'solar_pv_ppl': 25,\n",
    "}\n",
    "\n",
    "for tec, val in costs.items():\n",
    "    df = make_df(base_fix_cost, technology=tec, value=val * 1e6)\n",
    "    scenario.add_par('fix_cost', df)"
   ]
  },
  {
   "cell_type": "code",
   "execution_count": 21,
   "metadata": {},
   "outputs": [],
   "source": [
    "base_var_cost = {\n",
    "    'node_loc': country,\n",
    "    'year_vtg': vintage_years,\n",
    "    'year_act': act_years,\n",
    "    'mode': 'standard',\n",
    "    'time': 'year',\n",
    "    'unit': 'USD/GWa',\n",
    "}\n",
    "\n",
    "# in $ / MWh\n",
    "costs = {\n",
    "    'coal_ppl': 24.4,\n",
    "    'gas_ppl':  42.4,\n",
    "    'oil_ppl':  77.8,\n",
    "    'bio_ppl':  48.2,\n",
    "    'electricity_grid': 47.8,\n",
    "}\n",
    "\n",
    "for tec, val in costs.items():\n",
    "    df = make_df(base_var_cost, technology=tec, value=val * 8760. * 1e3)\n",
    "    scenario.add_par('var_cost', df)"
   ]
  },
  {
   "cell_type": "markdown",
   "metadata": {},
   "source": [
    "## Dynamic Behavior Parameters"
   ]
  },
  {
   "cell_type": "code",
   "execution_count": 22,
   "metadata": {},
   "outputs": [],
   "source": [
    "base_growth = {\n",
    "    'node_loc': country,\n",
    "    'year_act': horizon[1:],\n",
    "    'value': 0.05,\n",
    "    'time': 'year',\n",
    "    'unit': '%',\n",
    "}\n",
    "\n",
    "growth_technologies = [\n",
    "    \"coal_ppl\", \n",
    "    \"gas_ppl\", \n",
    "    \"oil_ppl\", \n",
    "    \"bio_ppl\", \n",
    "    \"hydro_ppl\",\n",
    "    \"wind_ppl\", \n",
    "    \"solar_pv_ppl\", \n",
    "    \"cfl\",\n",
    "    \"bulb\",\n",
    "]\n",
    "\n",
    "for tec in growth_technologies:\n",
    "    df = make_df(base_growth, technology=tec)\n",
    "    scenario.add_par('growth_activity_up', df)"
   ]
  },
  {
   "cell_type": "code",
   "execution_count": 23,
   "metadata": {},
   "outputs": [],
   "source": [
    "base_initial = {\n",
    "    'node_loc': country,\n",
    "    'year_act': horizon[1:],\n",
    "    'time': 'year',\n",
    "    'unit': '%',\n",
    "}\n",
    "\n",
    "for tec in lights:\n",
    "    df = make_df(base_initial, technology=tec, value=0.01 * light_demand['value'].loc[horizon[1:]])\n",
    "    scenario.add_par('initial_activity_up', df)"
   ]
  },
  {
   "cell_type": "code",
   "execution_count": 24,
   "metadata": {},
   "outputs": [],
   "source": [
    "base_activity = {\n",
    "    'node_loc': country,\n",
    "    'year_act': [2010],\n",
    "    'mode': 'standard',\n",
    "    'time': 'year',\n",
    "    'unit': 'GWa',\n",
    "}\n",
    "\n",
    "# in GWh - from IEA Electricity Output\n",
    "activity = {\n",
    "    'coal_ppl': 7184,\n",
    "    'gas_ppl':  14346,\n",
    "    'oil_ppl':  1275,\n",
    "    'hydro_ppl': 38406,\n",
    "    'bio_ppl':  4554,\n",
    "    'wind_ppl': 2064,\n",
    "    'solar_pv_ppl': 89,\n",
    "    'import': 2340,\n",
    "    'cfl': 0,\n",
    "}\n",
    "\n",
    "for tec, val in activity.items():\n",
    "    df = make_df(base_activity, technology=tec, value=val / 8760.)\n",
    "    scenario.add_par('bound_activity_up', df)\n",
    "    scenario.add_par('bound_activity_lo', df)"
   ]
  },
  {
   "cell_type": "code",
   "execution_count": 25,
   "metadata": {},
   "outputs": [],
   "source": [
    "base_capacity = {\n",
    "    'node_loc': country,\n",
    "    'year_vtg': [2010],\n",
    "    'unit': 'GWa',\n",
    "}\n",
    "\n",
    "cf = pd.Series(capacity_factor)\n",
    "act = pd.Series(activity)\n",
    "capacity = (act / 8760 / cf).dropna().to_dict()\n",
    "\n",
    "for tec, val in capacity.items():\n",
    "    df = make_df(base_capacity, technology=tec, value=val)\n",
    "    scenario.add_par('bound_new_capacity_up', df)"
   ]
  },
  {
   "cell_type": "code",
   "execution_count": 26,
   "metadata": {},
   "outputs": [],
   "source": [
    "base_activity = {\n",
    "    'node_loc': country,\n",
    "    'year_act': horizon[1:],\n",
    "    'mode': 'standard',\n",
    "    'time': 'year',\n",
    "    'unit': 'GWa',\n",
    "}\n",
    "\n",
    "# in GWh - base value from IEA Electricity Output\n",
    "keep_activity = {\n",
    "    'hydro_ppl': 38406,\n",
    "    'bio_ppl':  4554,\n",
    "    'import': 2340,\n",
    "}\n",
    "\n",
    "for tec, val in keep_activity.items():\n",
    "    df = make_df(base_activity, technology=tec, value=val / 8760.)\n",
    "    scenario.add_par('bound_activity_up', df)"
   ]
  },
  {
   "cell_type": "markdown",
   "metadata": {},
   "source": [
    "## Emissions"
   ]
  },
  {
   "cell_type": "code",
   "execution_count": 27,
   "metadata": {},
   "outputs": [],
   "source": [
    "scenario.add_set(\"emission\", \"CO2\")\n",
    "scenario.add_cat('emission', 'GHGs', 'CO2')"
   ]
  },
  {
   "cell_type": "code",
   "execution_count": 28,
   "metadata": {},
   "outputs": [],
   "source": [
    "base_emissions = {\n",
    "    'node_loc': country,\n",
    "    'year_vtg': vintage_years,\n",
    "    'year_act': act_years,\n",
    "    'mode': 'standard',\n",
    "    'unit': 'kg/kWa', # actually is tCO2/GWa\n",
    "}\n",
    "\n",
    "# units: tCO2/MWh\n",
    "emissions = {\n",
    "    'coal_ppl': ('CO2', 0.854),\n",
    "    'gas_ppl':  ('CO2', 0.339),\n",
    "    'oil_ppl':  ('CO2', 0.57),\n",
    "}\n",
    "\n",
    "for tec, (species, val) in emissions.items():\n",
    "    df = make_df(base_emissions, technology=tec, emission=species, value=val * 8760. * 1000)\n",
    "    scenario.add_par('emission_factor', df)"
   ]
  },
  {
   "cell_type": "markdown",
   "metadata": {},
   "source": [
    "## Commit the datastructure and solve the model"
   ]
  },
  {
   "cell_type": "code",
   "execution_count": 29,
   "metadata": {},
   "outputs": [],
   "source": [
    "comment = 'initial commit for Austria model'\n",
    "scenario.commit(comment)\n",
    "scenario.set_as_default()"
   ]
  },
  {
   "cell_type": "code",
   "execution_count": 30,
   "metadata": {},
   "outputs": [],
   "source": [
    "scenario.solve('MESSAGE')"
   ]
  },
  {
   "cell_type": "markdown",
   "metadata": {},
   "source": [
    "# Plotting Results"
   ]
  },
  {
   "cell_type": "code",
   "execution_count": 31,
   "metadata": {},
   "outputs": [],
   "source": [
    "from tools import Plots\n",
    "p = Plots(scenario, country)"
   ]
  },
  {
   "cell_type": "code",
   "execution_count": 32,
   "metadata": {},
   "outputs": [
    {
     "data": {
      "image/png": "[encoded data removed]",
      "text/plain": [
       "<Figure size 432x288 with 1 Axes>"
      ]
     },
     "metadata": {},
     "output_type": "display_data"
    }
   ],
   "source": [
    "p.plot_new_capacity(baseyear=True, subset=plants)"
   ]
  },
  {
   "cell_type": "code",
   "execution_count": 33,
   "metadata": {
    "scrolled": true
   },
   "outputs": [
    {
     "data": {
      "image/png": "[encoded data removed]",
      "text/plain": [
       "<Figure size 432x288 with 1 Axes>"
      ]
     },
     "metadata": {},
     "output_type": "display_data"
    }
   ],
   "source": [
    "p.plot_new_capacity(baseyear=True, subset=lights)"
   ]
  },
  {
   "cell_type": "code",
   "execution_count": 34,
   "metadata": {},
   "outputs": [
    {
     "data": {
      "image/png": "[encoded data removed]",
      "text/plain": [
       "<Figure size 432x288 with 1 Axes>"
      ]
     },
     "metadata": {},
     "output_type": "display_data"
    }
   ],
   "source": [
    "p.plot_capacity(baseyear=True, subset=plants)"
   ]
  },
  {
   "cell_type": "code",
   "execution_count": 35,
   "metadata": {},
   "outputs": [
    {
     "data": {
      "image/png": "[encoded data removed]",
      "text/plain": [
       "<Figure size 432x288 with 1 Axes>"
      ]
     },
     "metadata": {},
     "output_type": "display_data"
    }
   ],
   "source": [
    "p.plot_capacity(baseyear=True, subset=lights)"
   ]
  },
  {
   "cell_type": "code",
   "execution_count": 36,
   "metadata": {},
   "outputs": [
    {
     "data": {
      "image/png": "[encoded data removed]",
      "text/plain": [
       "<Figure size 432x288 with 1 Axes>"
      ]
     },
     "metadata": {},
     "output_type": "display_data"
    }
   ],
   "source": [
    "p.plot_demand(light_demand, elec_demand)"
   ]
  },
  {
   "cell_type": "code",
   "execution_count": 37,
   "metadata": {},
   "outputs": [
    {
     "data": {
      "image/png": "[encoded data removed]",
      "text/plain": [
       "<Figure size 432x288 with 1 Axes>"
      ]
     },
     "metadata": {},
     "output_type": "display_data"
    }
   ],
   "source": [
    "p.plot_activity(baseyear=True, subset=plants)"
   ]
  },
  {
   "cell_type": "code",
   "execution_count": 38,
   "metadata": {},
   "outputs": [
    {
     "data": {
      "image/png": "[encoded data removed]",
      "text/plain": [
       "<Figure size 432x288 with 1 Axes>"
      ]
     },
     "metadata": {},
     "output_type": "display_data"
    }
   ],
   "source": [
    "p.plot_activity(baseyear=True, subset=lights)"
   ]
  },
  {
   "cell_type": "code",
   "execution_count": 39,
   "metadata": {},
   "outputs": [
    {
     "data": {
      "image/png": "[encoded data removed]",
      "text/plain": [
       "<Figure size 432x288 with 1 Axes>"
      ]
     },
     "metadata": {},
     "output_type": "display_data"
    }
   ],
   "source": [
    "p.plot_prices(baseyear=False, subset=['light', 'other_electricity'])"
   ]
  },
  {
   "cell_type": "code",
   "execution_count": 40,
   "metadata": {},
   "outputs": [],
   "source": [
    "#mp.close_db()"
   ]
  },
  {
   "cell_type": "code",
   "execution_count": 41,
   "metadata": {
    "scrolled": true
   },
   "outputs": [
    {
     "data": {
      "text/plain": [
       "0      World\n",
       "1     global\n",
       "2    country\n",
       "3      state\n",
       "dtype: object"
      ]
     },
     "execution_count": 41,
     "metadata": {},
     "output_type": "execute_result"
    }
   ],
   "source": [
    "scenario.set(\"lvl_spatial\")"
   ]
  },
  {
   "cell_type": "code",
   "execution_count": 42,
   "metadata": {},
   "outputs": [],
   "source": [
    "scenario.check_out(timeseries_only=True)"
   ]
  },
  {
   "cell_type": "code",
   "execution_count": 43,
   "metadata": {
    "scrolled": true
   },
   "outputs": [
    {
     "data": {
      "text/html": [
       "<div>\n",
       "<style scoped>\n",
       "    .dataframe tbody tr th:only-of-type {\n",
       "        vertical-align: middle;\n",
       "    }\n",
       "\n",
       "    .dataframe tbody tr th {\n",
       "        vertical-align: top;\n",
       "    }\n",
       "\n",
       "    .dataframe thead th {\n",
       "        text-align: right;\n",
       "    }\n",
       "</style>\n",
       "<table border=\"1\" class=\"dataframe\">\n",
       "  <thead>\n",
       "    <tr style=\"text-align: right;\">\n",
       "      <th></th>\n",
       "      <th>variable</th>\n",
       "      <th>region</th>\n",
       "      <th>year</th>\n",
       "      <th>unit</th>\n",
       "      <th>value</th>\n",
       "    </tr>\n",
       "  </thead>\n",
       "  <tbody>\n",
       "    <tr>\n",
       "      <th>0</th>\n",
       "      <td>ACT</td>\n",
       "      <td>Vienna</td>\n",
       "      <td>2020</td>\n",
       "      <td>???</td>\n",
       "      <td>0.873</td>\n",
       "    </tr>\n",
       "  </tbody>\n",
       "</table>\n",
       "</div>"
      ],
      "text/plain": [
       "  variable  region  year unit  value\n",
       "0      ACT  Vienna  2020  ???  0.873"
      ]
     },
     "execution_count": 43,
     "metadata": {},
     "output_type": "execute_result"
    }
   ],
   "source": [
    "base = {'variable':'ACT',\n",
    "       'region':state,\n",
    "        'year':2020,\n",
    "        'unit':'???',\n",
    "        'value':0.873}\n",
    "ts = pd.DataFrame.from_dict(base, orient='index').T\n",
    "\n",
    "ts.head()"
   ]
  },
  {
   "cell_type": "code",
   "execution_count": null,
   "metadata": {},
   "outputs": [],
   "source": [
    "scenario.set('node')"
   ]
  },
  {
   "cell_type": "code",
   "execution_count": 44,
   "metadata": {},
   "outputs": [
    {
     "ename": "at.ac.iiasa.ixmp.exceptions.IxExceptionPyRaisable",
     "evalue": "at.ac.iiasa.ixmp.exceptions.IxException: The node 'Vienna' does not exist in the database!'",
     "output_type": "error",
     "traceback": [
      "\u001b[1;31m---------------------------------------------------------------------------\u001b[0m",
      "\u001b[1;31mat.ac.iiasa.ixmp.exceptions.IxExceptionPyRaisable\u001b[0mTraceback (most recent call last)",
      "\u001b[1;32m<ipython-input-44-991cd1855e1c>\u001b[0m in \u001b[0;36m<module>\u001b[1;34m()\u001b[0m\n\u001b[1;32m----> 1\u001b[1;33m \u001b[0mscenario\u001b[0m\u001b[1;33m.\u001b[0m\u001b[0madd_timeseries\u001b[0m\u001b[1;33m(\u001b[0m\u001b[0mts\u001b[0m\u001b[1;33m)\u001b[0m\u001b[1;33m\u001b[0m\u001b[0m\n\u001b[0m",
      "\u001b[1;32m~\\AppData\\Local\\Continuum\\anaconda3\\envs\\message\\lib\\site-packages\\ixmp\\core.py\u001b[0m in \u001b[0;36madd_timeseries\u001b[1;34m(self, df, meta)\u001b[0m\n\u001b[0;32m    348\u001b[0m                           java.Double(float(df.value[i])))\n\u001b[0;32m    349\u001b[0m             \u001b[1;31m# add the final iteration of the loop\u001b[0m\u001b[1;33m\u001b[0m\u001b[1;33m\u001b[0m\u001b[0m\n\u001b[1;32m--> 350\u001b[1;33m             \u001b[0mself\u001b[0m\u001b[1;33m.\u001b[0m\u001b[0m_jobj\u001b[0m\u001b[1;33m.\u001b[0m\u001b[0maddTimeseries\u001b[0m\u001b[1;33m(\u001b[0m\u001b[0mregion\u001b[0m\u001b[1;33m,\u001b[0m \u001b[0mvariable\u001b[0m\u001b[1;33m,\u001b[0m \u001b[0mtime\u001b[0m\u001b[1;33m,\u001b[0m \u001b[0mjData\u001b[0m\u001b[1;33m,\u001b[0m \u001b[0munit\u001b[0m\u001b[1;33m,\u001b[0m \u001b[0mmeta\u001b[0m\u001b[1;33m)\u001b[0m\u001b[1;33m\u001b[0m\u001b[0m\n\u001b[0m\u001b[0;32m    351\u001b[0m \u001b[1;33m\u001b[0m\u001b[0m\n\u001b[0;32m    352\u001b[0m         \u001b[1;31m# if in 'IAMC-style' format\u001b[0m\u001b[1;33m\u001b[0m\u001b[1;33m\u001b[0m\u001b[0m\n",
      "\u001b[1;31mat.ac.iiasa.ixmp.exceptions.IxExceptionPyRaisable\u001b[0m: at.ac.iiasa.ixmp.exceptions.IxException: The node 'Vienna' does not exist in the database!'"
     ]
    }
   ],
   "source": [
    "scenario.add_timeseries(ts)"
   ]
  },
  {
   "cell_type": "code",
   "execution_count": null,
   "metadata": {},
   "outputs": [],
   "source": [
    "scenario.timeseries()"
   ]
  },
  {
   "cell_type": "code",
   "execution_count": null,
   "metadata": {},
   "outputs": [],
   "source": []
  }
 ],
 "metadata": {
  "anaconda-cloud": {},
  "kernelspec": {
   "display_name": "Python 3",
   "language": "python",
   "name": "python3"
  },
  "language_info": {
   "codemirror_mode": {
    "name": "ipython",
    "version": 3
   },
   "file_extension": ".py",
   "mimetype": "text/x-python",
   "name": "python",
   "nbconvert_exporter": "python",
   "pygments_lexer": "ipython3",
   "version": "3.6.5"
  }
 },
 "nbformat": 4,
 "nbformat_minor": 1
}
